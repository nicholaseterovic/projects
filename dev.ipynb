{
 "cells": [
  {
   "cell_type": "code",
   "execution_count": 141,
   "source": [
    "\r\n",
    "triangle = geometry.Triangle(points=[geometry.Point(), geometry.Point(1)])"
   ],
   "outputs": [],
   "metadata": {}
  },
  {
   "cell_type": "code",
   "execution_count": 143,
   "source": [
    "\r\n",
    "triangle.area"
   ],
   "outputs": [
    {
     "output_type": "execute_result",
     "data": {
      "text/plain": [
       "0.0"
      ]
     },
     "metadata": {},
     "execution_count": 143
    }
   ],
   "metadata": {}
  },
  {
   "cell_type": "code",
   "execution_count": 139,
   "source": [
    "import importlib\r\n",
    "import geometry.geometry as geometry\r\n",
    "importlib.reload(geometry)"
   ],
   "outputs": [
    {
     "output_type": "execute_result",
     "data": {
      "text/plain": [
       "<module 'geometry.geometry' from 'c:\\\\Users\\\\Nick\\\\code\\\\repo\\\\geometry\\\\geometry.py'>"
      ]
     },
     "metadata": {},
     "execution_count": 139
    }
   ],
   "metadata": {}
  },
  {
   "cell_type": "code",
   "execution_count": 136,
   "source": [
    "\r\n",
    "geometry.Ellipse(geometry.Line.unit(), diameter=1)"
   ],
   "outputs": [
    {
     "output_type": "execute_result",
     "data": {
      "text/plain": [
       "Ellipse(Line(Point(),Point(1)),1)"
      ]
     },
     "metadata": {},
     "execution_count": 136
    }
   ],
   "metadata": {}
  },
  {
   "cell_type": "code",
   "execution_count": 122,
   "source": [
    "import math"
   ],
   "outputs": [],
   "metadata": {}
  }
 ],
 "metadata": {
  "kernelspec": {
   "name": "python3",
   "display_name": "Python 3.7.9 64-bit ('dapp': conda)"
  },
  "language_info": {
   "codemirror_mode": {
    "name": "ipython",
    "version": 3
   },
   "file_extension": ".py",
   "mimetype": "text/x-python",
   "name": "python",
   "nbconvert_exporter": "python",
   "pygments_lexer": "ipython3",
   "version": "3.7.9"
  },
  "interpreter": {
   "hash": "cf70efbf2c1cdb1e5993ab04aff7270429333f16b5093914ca1ec930de42941b"
  }
 },
 "nbformat": 4,
 "nbformat_minor": 2
}