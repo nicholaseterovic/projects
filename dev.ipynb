{
 "cells": [
  {
   "cell_type": "code",
   "execution_count": 13,
   "source": [
    "import itertools as it\r\n",
    "import project_euler\r\n",
    "import json"
   ],
   "outputs": [],
   "metadata": {}
  },
  {
   "cell_type": "code",
   "execution_count": 11,
   "source": [
    "import pyinstrument as pi\r\n",
    "with pi.Profiler() as profiler:\r\n",
    "    project_euler.solution_029()"
   ],
   "outputs": [],
   "metadata": {}
  },
  {
   "cell_type": "code",
   "execution_count": 15,
   "source": [
    "profile_str = profiler.output(renderer=pi.renderers.JSONRenderer(show_all=False))\r\n",
    "profile_dict = json.loads(s=profile_str)"
   ],
   "outputs": [],
   "metadata": {}
  },
  {
   "cell_type": "code",
   "execution_count": 16,
   "source": [
    "profile_dict"
   ],
   "outputs": [
    {
     "output_type": "execute_result",
     "data": {
      "text/plain": [
       "{'start_time': 1635005245.652981,\n",
       " 'duration': 0.236921,\n",
       " 'sample_count': 215,\n",
       " 'program': 'ipykernel_launcher --ip=127.0.0.1 --stdin=9003 --control=9001 --hb=9000 --Session.signature_scheme=\"hmac-sha256\" --Session.key=b\"7f32e46a-8756-4ea7-943f-b9942abef34b\" --shell=9002 --transport=\"tcp\" --iopub=9004 --f=C:\\\\Users\\\\Nick\\\\AppData\\\\Local\\\\Temp\\\\tmp-10236Z4sxpddVXA8K.json',\n",
       " 'cpu_time': 0.234375,\n",
       " 'root_frame': {'function': '<module>',\n",
       "  'file_path_short': '<ipython-input-11-f64e98cbcdf8>',\n",
       "  'file_path': '<ipython-input-11-f64e98cbcdf8>',\n",
       "  'line_no': 2,\n",
       "  'time': 0.243587,\n",
       "  'await_time': 0.0,\n",
       "  'is_application_code': True,\n",
       "  'children': [{'function': 'solution_029',\n",
       "    'file_path_short': 'project_euler.py',\n",
       "    'file_path': 'c:\\\\Users\\\\Nick\\\\code\\\\repo\\\\project_euler.py',\n",
       "    'line_no': 188,\n",
       "    'time': 0.243587,\n",
       "    'await_time': 0.0,\n",
       "    'is_application_code': True,\n",
       "    'children': [{'function': '<genexpr>',\n",
       "      'file_path_short': 'project_euler.py',\n",
       "      'file_path': 'c:\\\\Users\\\\Nick\\\\code\\\\repo\\\\project_euler.py',\n",
       "      'line_no': 191,\n",
       "      'time': 0.165557,\n",
       "      'await_time': 0.0,\n",
       "      'is_application_code': True,\n",
       "      'children': [{'function': 'sorted',\n",
       "        'file_path_short': '<built-in>',\n",
       "        'file_path': '<built-in>',\n",
       "        'line_no': 0,\n",
       "        'time': 0.135241,\n",
       "        'await_time': 0.0,\n",
       "        'is_application_code': False,\n",
       "        'children': [],\n",
       "        'group_id': 'efd94d72-4dd0-4f62-ac47-590500a84354'},\n",
       "       {'function': '[self]',\n",
       "        'file_path_short': '',\n",
       "        'file_path': 'c:\\\\Users\\\\Nick\\\\code\\\\repo\\\\project_euler.py',\n",
       "        'line_no': 191,\n",
       "        'time': 0.030316,\n",
       "        'await_time': 0.0,\n",
       "        'is_application_code': False,\n",
       "        'children': []}]},\n",
       "     {'function': '[self]',\n",
       "      'file_path_short': '',\n",
       "      'file_path': 'c:\\\\Users\\\\Nick\\\\code\\\\repo\\\\project_euler.py',\n",
       "      'line_no': 188,\n",
       "      'time': 0.075009,\n",
       "      'await_time': 0.0,\n",
       "      'is_application_code': False,\n",
       "      'children': []},\n",
       "     {'function': 'get_prime_decomposition',\n",
       "      'file_path_short': 'utils\\\\numbers.py',\n",
       "      'file_path': 'c:\\\\Users\\\\Nick\\\\code\\\\repo\\\\utils\\\\numbers.py',\n",
       "      'line_no': 66,\n",
       "      'time': 0.00302,\n",
       "      'await_time': 0.0,\n",
       "      'is_application_code': True,\n",
       "      'children': []}]}]}}"
      ]
     },
     "metadata": {},
     "execution_count": 16
    }
   ],
   "metadata": {}
  },
  {
   "cell_type": "code",
   "execution_count": null,
   "source": [
    "profile_dict = json.reads?"
   ],
   "outputs": [],
   "metadata": {}
  },
  {
   "cell_type": "code",
   "execution_count": 17,
   "source": [
    "import inspect"
   ],
   "outputs": [],
   "metadata": {}
  },
  {
   "cell_type": "code",
   "execution_count": 20,
   "source": [
    "getattr?"
   ],
   "outputs": [
    {
     "output_type": "stream",
     "name": "stdout",
     "text": [
      "\u001b[1;31mDocstring:\u001b[0m\n",
      "getattr(object, name[, default]) -> value\n",
      "\n",
      "Get a named attribute from an object; getattr(x, 'y') is equivalent to x.y.\n",
      "When a default argument is given, it is returned when the attribute doesn't\n",
      "exist; without it, an exception is raised in that case.\n",
      "\u001b[1;31mType:\u001b[0m      builtin_function_or_method\n"
     ]
    }
   ],
   "metadata": {}
  },
  {
   "cell_type": "code",
   "execution_count": 18,
   "source": [
    "inspect.getmembers?"
   ],
   "outputs": [
    {
     "output_type": "stream",
     "name": "stdout",
     "text": [
      "\u001b[1;31mSignature:\u001b[0m \u001b[0minspect\u001b[0m\u001b[1;33m.\u001b[0m\u001b[0mgetmembers\u001b[0m\u001b[1;33m(\u001b[0m\u001b[0mobject\u001b[0m\u001b[1;33m,\u001b[0m \u001b[0mpredicate\u001b[0m\u001b[1;33m=\u001b[0m\u001b[1;32mNone\u001b[0m\u001b[1;33m)\u001b[0m\u001b[1;33m\u001b[0m\u001b[1;33m\u001b[0m\u001b[0m\n",
      "\u001b[1;31mDocstring:\u001b[0m\n",
      "Return all members of an object as (name, value) pairs sorted by name.\n",
      "Optionally, only return members that satisfy a given predicate.\n",
      "\u001b[1;31mFile:\u001b[0m      c:\\users\\nick\\appdata\\local\\conda\\conda\\envs\\dapp\\lib\\inspect.py\n",
      "\u001b[1;31mType:\u001b[0m      function\n"
     ]
    }
   ],
   "metadata": {}
  },
  {
   "cell_type": "code",
   "execution_count": 125,
   "source": [
    "import geometry\r\n",
    "import typing as tp\r\n",
    "import typing as tp\r\n",
    "import project_euler\r\n",
    "import importlib\r\n",
    "import functools as ft\r\n",
    "importlib.reload(geometry)\r\n",
    "importlib.reload(project_euler)"
   ],
   "outputs": [
    {
     "output_type": "execute_result",
     "data": {
      "text/plain": [
       "<module 'project_euler' from 'c:\\\\Users\\\\Nick\\\\code\\\\repo\\\\project_euler.py'>"
      ]
     },
     "metadata": {},
     "execution_count": 125
    }
   ],
   "metadata": {}
  }
 ],
 "metadata": {
  "kernelspec": {
   "name": "python3",
   "display_name": "Python 3.7.9 64-bit ('dapp': conda)"
  },
  "language_info": {
   "codemirror_mode": {
    "name": "ipython",
    "version": 3
   },
   "file_extension": ".py",
   "mimetype": "text/x-python",
   "name": "python",
   "nbconvert_exporter": "python",
   "pygments_lexer": "ipython3",
   "version": "3.7.9"
  },
  "interpreter": {
   "hash": "cf70efbf2c1cdb1e5993ab04aff7270429333f16b5093914ca1ec930de42941b"
  }
 },
 "nbformat": 4,
 "nbformat_minor": 2
}